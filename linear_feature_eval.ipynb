{
  "cells": [
    {
      "cell_type": "markdown",
      "metadata": {
        "id": "view-in-github",
        "colab_type": "text"
      },
      "source": [
        "<a href=\"https://colab.research.google.com/github/park-yeon-ju/Caloric-Calculator/blob/main/linear_feature_eval.ipynb\" target=\"_parent\"><img src=\"https://colab.research.google.com/assets/colab-badge.svg\" alt=\"Open In Colab\"/></a>"
      ]
    },
    {
      "cell_type": "code",
      "execution_count": null,
      "metadata": {
        "id": "XdJeV-ZrnbZw",
        "colab": {
          "base_uri": "https://localhost:8080/"
        },
        "outputId": "c9d4f7e0-ea8b-4fa5-caff-f7409654fb1c"
      },
      "outputs": [
        {
          "output_type": "stream",
          "name": "stdout",
          "text": [
            "Drive already mounted at /content/drive; to attempt to forcibly remount, call drive.mount(\"/content/drive\", force_remount=True).\n"
          ]
        }
      ],
      "source": [
        "import torch\n",
        "import sys #파이썬 인터프리터를 제어할 수 있는 방법을 제공\n",
        "import yaml\n",
        "from torchvision import transforms, datasets\n",
        "import torchvision\n",
        "import numpy as np\n",
        "import os\n",
        "import tensorflow as tf\n",
        "\n",
        "from sklearn import preprocessing\n",
        "from torch.utils.data.dataloader import DataLoader\n",
        "\n",
        "#구글 드라이브에 있는 폴더 import 할 수 있도록 권한 부여\n",
        "from google.colab import drive \n",
        "drive.mount('/content/drive')"
      ]
    },
    {
      "cell_type": "code",
      "source": [
        "from google.colab import drive\n",
        "drive.mount('/content/drive')"
      ],
      "metadata": {
        "id": "p296vn5HgjA_",
        "colab": {
          "base_uri": "https://localhost:8080/"
        },
        "outputId": "d79ec54e-197a-4ace-ed19-fb8a21f312e3"
      },
      "execution_count": null,
      "outputs": [
        {
          "output_type": "stream",
          "name": "stdout",
          "text": [
            "Drive already mounted at /content/drive; to attempt to forcibly remount, call drive.mount(\"/content/drive\", force_remount=True).\n"
          ]
        }
      ]
    },
    {
      "cell_type": "code",
      "execution_count": null,
      "metadata": {
        "id": "-8P1LfsOnbZy"
      },
      "outputs": [],
      "source": [
        "sys.path.append('/content/drive/MyDrive/Colab Notebooks/yeonju_byol/PyTorch-BYOL')\n",
        "from models.resnet_base_network import ResNet18\n",
        "#ResNet18 네트워크 import"
      ]
    },
    {
      "cell_type": "code",
      "execution_count": null,
      "metadata": {
        "id": "snvilEd3nbZz"
      },
      "outputs": [],
      "source": [
        "batch_size = 256 \n",
        "#config 파일이랑 동일하게 바꿔줌\n",
        "#loader 코드에서 사용됨\n",
        "\n",
        "data_transforms = torchvision.transforms.Compose([transforms.ToTensor()])\n",
        "#데이터를 tensor로 바꾸는 과정"
      ]
    },
    {
      "cell_type": "code",
      "execution_count": null,
      "metadata": {
        "id": "fCfouHXPnbZz"
      },
      "outputs": [],
      "source": [
        "config = yaml.load(open(\"/content/drive/MyDrive/Colab Notebooks/yeonju_byol/PyTorch-BYOL/config/config.yaml\", \"r\"), Loader=yaml.FullLoader)"
      ]
    },
    {
      "cell_type": "code",
      "execution_count": null,
      "metadata": {
        "id": "pQ0OuMtonbZz",
        "colab": {
          "base_uri": "https://localhost:8080/"
        },
        "outputId": "43efad46-5182-4a9a-8927-4b7c014402d3"
      },
      "outputs": [
        {
          "output_type": "stream",
          "name": "stdout",
          "text": [
            "Files already downloaded and verified\n",
            "Files already downloaded and verified\n"
          ]
        }
      ],
      "source": [
        "train_dataset = datasets.STL10('/content/drive/MyDrive/Colab Notebooks/yeonju_byol/Downloads/', split='train', download=True,\n",
        "                               transform=data_transforms)\n",
        "\n",
        "test_dataset = datasets.STL10('/content/drive/MyDrive/Colab Notebooks/yeonju_byol/Downloads/', split='test', download=True,\n",
        "                               transform=data_transforms) \n",
        "# 최초 다운로드 시에만 downlad=True로 변경"
      ]
    },
    {
      "cell_type": "code",
      "execution_count": null,
      "metadata": {
        "id": "5wFRf-IsnbZ0",
        "outputId": "ad489231-e434-4d9d-efde-c80c46a46b9c",
        "colab": {
          "base_uri": "https://localhost:8080/"
        }
      },
      "outputs": [
        {
          "output_type": "stream",
          "name": "stdout",
          "text": [
            "Input shape: torch.Size([3, 96, 96])\n"
          ]
        }
      ],
      "source": [
        "print(\"Input shape:\", train_dataset[0][0].shape)\n",
        "#input shape이 96*96 3차원 이미지 파일 - color니까"
      ]
    },
    {
      "cell_type": "code",
      "execution_count": null,
      "metadata": {
        "id": "vkaMCfj5nbZ0"
      },
      "outputs": [],
      "source": [
        "train_loader = DataLoader(train_dataset, batch_size=batch_size,\n",
        "                          num_workers=0, drop_last=False, shuffle=True)\n",
        "\n",
        "test_loader = DataLoader(test_dataset, batch_size=batch_size,\n",
        "                          num_workers=0, drop_last=False, shuffle=True)"
      ]
    },
    {
      "cell_type": "code",
      "execution_count": null,
      "metadata": {
        "id": "x6hg8AbUnbZ1",
        "colab": {
          "base_uri": "https://localhost:8080/"
        },
        "outputId": "fc4d776f-d75e-49ef-cb47-aecafdf97489"
      },
      "outputs": [
        {
          "output_type": "stream",
          "name": "stdout",
          "text": [
            "cpu\n"
          ]
        }
      ],
      "source": [
        "device = 'cuda' if torch.cuda.is_available() else 'cpu'\n",
        "print(device)\n",
        "encoder = ResNet18(**config['network'])\n",
        "#byol 인코더 네트워크 설정\n",
        "output_feature_dim = encoder.projetion.net[0].in_features\n",
        "#resnet18의 마지막 노드 개수?"
      ]
    },
    {
      "cell_type": "code",
      "execution_count": null,
      "metadata": {
        "id": "dz9w4ljVnbZ1",
        "outputId": "b8e6065a-a801-4e43-96d3-9233443444b2",
        "colab": {
          "base_uri": "https://localhost:8080/"
        }
      },
      "outputs": [
        {
          "output_type": "stream",
          "name": "stdout",
          "text": [
            "Parameters successfully loaded.\n"
          ]
        }
      ],
      "source": [
        "#load pre-trained parameters\n",
        "load_params = torch.load(os.path.join('/content/drive/MyDrive/Colab Notebooks/yeonju_byol/PyTorch-BYOL/runs/b 256, e 400 _ 2/checkpoints/model.pth'),\n",
        "                         map_location=torch.device(torch.device(device)))\n",
        "# runs폴더에서 불러올 Training된 model설정\n",
        "\n",
        "if 'online_network_state_dict' in load_params:\n",
        "    encoder.load_state_dict(load_params['online_network_state_dict'])\n",
        "    #path 파일에 있는 가중치 값들을 load.state_dict로 불러와 encoder 구조에 적용\n",
        "    print(\"Parameters successfully loaded.\")\n",
        "\n",
        "# remove the projection head\n",
        "encoder = torch.nn.Sequential(*list(encoder.children())[:-1])    \n",
        "encoder = encoder.to(device)"
      ]
    },
    {
      "cell_type": "code",
      "execution_count": null,
      "metadata": {
        "id": "ZIuX1xOgnbZ2",
        "outputId": "ac934e02-7fe1-461d-8266-fc426af6877d",
        "colab": {
          "base_uri": "https://localhost:8080/"
        }
      },
      "outputs": [
        {
          "output_type": "execute_result",
          "data": {
            "text/plain": [
              "Sequential(\n",
              "  (0): Sequential(\n",
              "    (0): Conv2d(3, 64, kernel_size=(7, 7), stride=(2, 2), padding=(3, 3), bias=False)\n",
              "    (1): BatchNorm2d(64, eps=1e-05, momentum=0.1, affine=True, track_running_stats=True)\n",
              "    (2): ReLU(inplace=True)\n",
              "    (3): MaxPool2d(kernel_size=3, stride=2, padding=1, dilation=1, ceil_mode=False)\n",
              "    (4): Sequential(\n",
              "      (0): BasicBlock(\n",
              "        (conv1): Conv2d(64, 64, kernel_size=(3, 3), stride=(1, 1), padding=(1, 1), bias=False)\n",
              "        (bn1): BatchNorm2d(64, eps=1e-05, momentum=0.1, affine=True, track_running_stats=True)\n",
              "        (relu): ReLU(inplace=True)\n",
              "        (conv2): Conv2d(64, 64, kernel_size=(3, 3), stride=(1, 1), padding=(1, 1), bias=False)\n",
              "        (bn2): BatchNorm2d(64, eps=1e-05, momentum=0.1, affine=True, track_running_stats=True)\n",
              "      )\n",
              "      (1): BasicBlock(\n",
              "        (conv1): Conv2d(64, 64, kernel_size=(3, 3), stride=(1, 1), padding=(1, 1), bias=False)\n",
              "        (bn1): BatchNorm2d(64, eps=1e-05, momentum=0.1, affine=True, track_running_stats=True)\n",
              "        (relu): ReLU(inplace=True)\n",
              "        (conv2): Conv2d(64, 64, kernel_size=(3, 3), stride=(1, 1), padding=(1, 1), bias=False)\n",
              "        (bn2): BatchNorm2d(64, eps=1e-05, momentum=0.1, affine=True, track_running_stats=True)\n",
              "      )\n",
              "    )\n",
              "    (5): Sequential(\n",
              "      (0): BasicBlock(\n",
              "        (conv1): Conv2d(64, 128, kernel_size=(3, 3), stride=(2, 2), padding=(1, 1), bias=False)\n",
              "        (bn1): BatchNorm2d(128, eps=1e-05, momentum=0.1, affine=True, track_running_stats=True)\n",
              "        (relu): ReLU(inplace=True)\n",
              "        (conv2): Conv2d(128, 128, kernel_size=(3, 3), stride=(1, 1), padding=(1, 1), bias=False)\n",
              "        (bn2): BatchNorm2d(128, eps=1e-05, momentum=0.1, affine=True, track_running_stats=True)\n",
              "        (downsample): Sequential(\n",
              "          (0): Conv2d(64, 128, kernel_size=(1, 1), stride=(2, 2), bias=False)\n",
              "          (1): BatchNorm2d(128, eps=1e-05, momentum=0.1, affine=True, track_running_stats=True)\n",
              "        )\n",
              "      )\n",
              "      (1): BasicBlock(\n",
              "        (conv1): Conv2d(128, 128, kernel_size=(3, 3), stride=(1, 1), padding=(1, 1), bias=False)\n",
              "        (bn1): BatchNorm2d(128, eps=1e-05, momentum=0.1, affine=True, track_running_stats=True)\n",
              "        (relu): ReLU(inplace=True)\n",
              "        (conv2): Conv2d(128, 128, kernel_size=(3, 3), stride=(1, 1), padding=(1, 1), bias=False)\n",
              "        (bn2): BatchNorm2d(128, eps=1e-05, momentum=0.1, affine=True, track_running_stats=True)\n",
              "      )\n",
              "    )\n",
              "    (6): Sequential(\n",
              "      (0): BasicBlock(\n",
              "        (conv1): Conv2d(128, 256, kernel_size=(3, 3), stride=(2, 2), padding=(1, 1), bias=False)\n",
              "        (bn1): BatchNorm2d(256, eps=1e-05, momentum=0.1, affine=True, track_running_stats=True)\n",
              "        (relu): ReLU(inplace=True)\n",
              "        (conv2): Conv2d(256, 256, kernel_size=(3, 3), stride=(1, 1), padding=(1, 1), bias=False)\n",
              "        (bn2): BatchNorm2d(256, eps=1e-05, momentum=0.1, affine=True, track_running_stats=True)\n",
              "        (downsample): Sequential(\n",
              "          (0): Conv2d(128, 256, kernel_size=(1, 1), stride=(2, 2), bias=False)\n",
              "          (1): BatchNorm2d(256, eps=1e-05, momentum=0.1, affine=True, track_running_stats=True)\n",
              "        )\n",
              "      )\n",
              "      (1): BasicBlock(\n",
              "        (conv1): Conv2d(256, 256, kernel_size=(3, 3), stride=(1, 1), padding=(1, 1), bias=False)\n",
              "        (bn1): BatchNorm2d(256, eps=1e-05, momentum=0.1, affine=True, track_running_stats=True)\n",
              "        (relu): ReLU(inplace=True)\n",
              "        (conv2): Conv2d(256, 256, kernel_size=(3, 3), stride=(1, 1), padding=(1, 1), bias=False)\n",
              "        (bn2): BatchNorm2d(256, eps=1e-05, momentum=0.1, affine=True, track_running_stats=True)\n",
              "      )\n",
              "    )\n",
              "    (7): Sequential(\n",
              "      (0): BasicBlock(\n",
              "        (conv1): Conv2d(256, 512, kernel_size=(3, 3), stride=(2, 2), padding=(1, 1), bias=False)\n",
              "        (bn1): BatchNorm2d(512, eps=1e-05, momentum=0.1, affine=True, track_running_stats=True)\n",
              "        (relu): ReLU(inplace=True)\n",
              "        (conv2): Conv2d(512, 512, kernel_size=(3, 3), stride=(1, 1), padding=(1, 1), bias=False)\n",
              "        (bn2): BatchNorm2d(512, eps=1e-05, momentum=0.1, affine=True, track_running_stats=True)\n",
              "        (downsample): Sequential(\n",
              "          (0): Conv2d(256, 512, kernel_size=(1, 1), stride=(2, 2), bias=False)\n",
              "          (1): BatchNorm2d(512, eps=1e-05, momentum=0.1, affine=True, track_running_stats=True)\n",
              "        )\n",
              "      )\n",
              "      (1): BasicBlock(\n",
              "        (conv1): Conv2d(512, 512, kernel_size=(3, 3), stride=(1, 1), padding=(1, 1), bias=False)\n",
              "        (bn1): BatchNorm2d(512, eps=1e-05, momentum=0.1, affine=True, track_running_stats=True)\n",
              "        (relu): ReLU(inplace=True)\n",
              "        (conv2): Conv2d(512, 512, kernel_size=(3, 3), stride=(1, 1), padding=(1, 1), bias=False)\n",
              "        (bn2): BatchNorm2d(512, eps=1e-05, momentum=0.1, affine=True, track_running_stats=True)\n",
              "      )\n",
              "    )\n",
              "    (8): AdaptiveAvgPool2d(output_size=(1, 1))\n",
              "  )\n",
              ")"
            ]
          },
          "metadata": {},
          "execution_count": 46
        }
      ],
      "source": [
        "encoder"
      ]
    },
    {
      "cell_type": "code",
      "execution_count": null,
      "metadata": {
        "id": "xu5cqNqpnbZ2"
      },
      "outputs": [],
      "source": [
        "class LogisticRegression(torch.nn.Module):\n",
        "    def __init__(self, input_dim, output_dim):\n",
        "        super(LogisticRegression, self).__init__()\n",
        "        self.linear = torch.nn.Linear(input_dim, output_dim)\n",
        "        \n",
        "    def forward(self, x):\n",
        "        return self.linear(x)"
      ]
    },
    {
      "cell_type": "code",
      "execution_count": null,
      "metadata": {
        "id": "4XSCrSfXnbZ3"
      },
      "outputs": [],
      "source": [
        "logreg = LogisticRegression(output_feature_dim, 10)\n",
        "logreg = logreg.to(device)"
      ]
    },
    {
      "cell_type": "code",
      "execution_count": null,
      "metadata": {
        "id": "-xGHLoN8nbZ3"
      },
      "outputs": [],
      "source": [
        "def get_features_from_encoder(encoder, loader):\n",
        "    \n",
        "    x_train = []\n",
        "    y_train = []\n",
        "\n",
        "    # get the features from the pre-trained model\n",
        "    for i, (x, y) in enumerate(loader):\n",
        "        with torch.no_grad():\n",
        "            feature_vector = encoder(x)\n",
        "            x_train.extend(feature_vector)\n",
        "            y_train.extend(y.numpy())\n",
        "\n",
        "            \n",
        "    x_train = torch.stack(x_train)\n",
        "    y_train = torch.tensor(y_train)\n",
        "    return x_train, y_train"
      ]
    },
    {
      "cell_type": "code",
      "execution_count": null,
      "metadata": {
        "id": "3YC-CfSlnbZ3",
        "outputId": "19574139-2317-451b-d145-a106d42ae673",
        "colab": {
          "base_uri": "https://localhost:8080/"
        }
      },
      "outputs": [
        {
          "output_type": "stream",
          "name": "stdout",
          "text": [
            "Training data shape: torch.Size([5000, 512]) torch.Size([5000])\n",
            "Testing data shape: torch.Size([8000, 512]) torch.Size([8000])\n"
          ]
        }
      ],
      "source": [
        "encoder.eval()\n",
        "x_train, y_train = get_features_from_encoder(encoder, train_loader)\n",
        "x_test, y_test = get_features_from_encoder(encoder, test_loader)\n",
        "\n",
        "if len(x_train.shape) > 2:\n",
        "    x_train = torch.mean(x_train, dim=[2, 3])\n",
        "    x_test = torch.mean(x_test, dim=[2, 3])\n",
        "    \n",
        "print(\"Training data shape:\", x_train.shape, y_train.shape)\n",
        "print(\"Testing data shape:\", x_test.shape, y_test.shape)"
      ]
    },
    {
      "cell_type": "code",
      "execution_count": null,
      "metadata": {
        "id": "tLRoumxbnbZ3"
      },
      "outputs": [],
      "source": [
        "def create_data_loaders_from_arrays(X_train, y_train, X_test, y_test):\n",
        "\n",
        "    train = torch.utils.data.TensorDataset(X_train, y_train)\n",
        "    train_loader = torch.utils.data.DataLoader(train, batch_size=64, shuffle=True)\n",
        "\n",
        "    test = torch.utils.data.TensorDataset(X_test, y_test)\n",
        "    test_loader = torch.utils.data.DataLoader(test, batch_size=512, shuffle=False)\n",
        "    return train_loader, test_loader"
      ]
    },
    {
      "cell_type": "code",
      "execution_count": null,
      "metadata": {
        "id": "3yey4jwBnbZ4"
      },
      "outputs": [],
      "source": [
        "scaler = preprocessing.StandardScaler()\n",
        "scaler.fit(x_train)\n",
        "x_train = scaler.transform(x_train).astype(np.float32)\n",
        "x_test = scaler.transform(x_test).astype(np.float32)"
      ]
    },
    {
      "cell_type": "code",
      "execution_count": null,
      "metadata": {
        "id": "IDqXlUFrnbZ4"
      },
      "outputs": [],
      "source": [
        "train_loader, test_loader = create_data_loaders_from_arrays(torch.from_numpy(x_train), y_train, torch.from_numpy(x_test), y_test)"
      ]
    },
    {
      "cell_type": "code",
      "execution_count": null,
      "metadata": {
        "id": "8KVEkq7unbZ4",
        "outputId": "796cb6b8-1be8-449e-89a3-c7bf544348ae",
        "colab": {
          "base_uri": "https://localhost:8080/"
        }
      },
      "outputs": [
        {
          "output_type": "stream",
          "name": "stdout",
          "text": [
            "Testing accuracy: 82.05\n",
            "Testing accuracy: 82.7\n",
            "Testing accuracy: 82.0875\n",
            "Testing accuracy: 81.525\n",
            "Testing accuracy: 81.2375\n",
            "Testing accuracy: 80.85\n",
            "Testing accuracy: 80.525\n",
            "Testing accuracy: 80.7375\n",
            "Testing accuracy: 80.2875\n",
            "Testing accuracy: 80.1\n",
            "Testing accuracy: 79.975\n",
            "Testing accuracy: 79.7875\n",
            "Testing accuracy: 79.925\n",
            "Testing accuracy: 79.85\n",
            "Testing accuracy: 79.8875\n",
            "Testing accuracy: 79.8\n",
            "Testing accuracy: 79.775\n",
            "Testing accuracy: 79.625\n",
            "Testing accuracy: 79.6125\n",
            "Testing accuracy: 79.6625\n"
          ]
        }
      ],
      "source": [
        "optimizer = torch.optim.Adam(logreg.parameters(), lr=3e-3)\n",
        "criterion = torch.nn.CrossEntropyLoss()\n",
        "eval_every_n_epochs = 10\n",
        "testAC = []\n",
        "\n",
        "for epoch in range(200):\n",
        "#     train_acc = []\n",
        "    for x, y in train_loader:\n",
        "\n",
        "        x = x.to(device)\n",
        "        y = y.to(device)\n",
        "        \n",
        "        # zero the parameter gradients\n",
        "        optimizer.zero_grad()        \n",
        "        \n",
        "        logits = logreg(x)\n",
        "        predictions = torch.argmax(logits, dim=1)\n",
        "        \n",
        "        loss = criterion(logits, y)\n",
        "        \n",
        "        loss.backward()\n",
        "        optimizer.step()\n",
        "    \n",
        "    total = 0\n",
        "    if epoch % eval_every_n_epochs == 0:\n",
        "        correct = 0\n",
        "        for x, y in test_loader:\n",
        "            x = x.to(device)\n",
        "            y = y.to(device)\n",
        "\n",
        "            logits = logreg(x)\n",
        "            predictions = torch.argmax(logits, dim=1)\n",
        "            \n",
        "            total += y.size(0)\n",
        "            correct += (predictions == y).sum().item()\n",
        "            \n",
        "        acc = 100 * correct / total\n",
        "        print(f\"Testing accuracy: {np.mean(acc)}\")\n",
        "      \n",
        "        testAC.append(np.mean(acc))"
      ]
    },
    {
      "cell_type": "code",
      "source": [
        "#그래프를 그리기 위한 설정\n",
        "import matplotlib.pyplot as plt\n",
        "import pandas as pd\n",
        "%matplotlib inline\n",
        "\n",
        "plt.rcParams['figure.figsize'] = (8,8) #캔버스 가로 세로 길이 설정\n",
        "plt.title('Testing accuracy per 10 epochs')\n",
        "plt.xlabel('epoch')\n",
        "plt.ylabel('testing accuracy')\n",
        "#plt.legend(['test Accuracy',], loc='upper right')\n",
        "plt.grid()\n",
        "\n",
        "plt.plot(testAC)\n",
        "plt.show()"
      ],
      "metadata": {
        "colab": {
          "base_uri": "https://localhost:8080/",
          "height": 513
        },
        "id": "kTKD35UO9aUE",
        "outputId": "269041f6-5df3-4a66-be76-02243f27ab5a"
      },
      "execution_count": null,
      "outputs": [
        {
          "output_type": "display_data",
          "data": {
            "text/plain": [
              "<Figure size 576x576 with 1 Axes>"
            ],
            "image/png": "[encoded data removed]"
          },
          "metadata": {
            "needs_background": "light"
          }
        }
      ]
    }
  ],
  "metadata": {
    "kernelspec": {
      "display_name": "pytorch",
      "language": "python",
      "name": "pytorch"
    },
    "language_info": {
      "codemirror_mode": {
        "name": "ipython",
        "version": 3
      },
      "file_extension": ".py",
      "mimetype": "text/x-python",
      "name": "python",
      "nbconvert_exporter": "python",
      "pygments_lexer": "ipython3",
      "version": "3.6.6"
    },
    "colab": {
      "provenance": [],
      "collapsed_sections": [],
      "include_colab_link": true
    }
  },
  "nbformat": 4,
  "nbformat_minor": 0
}